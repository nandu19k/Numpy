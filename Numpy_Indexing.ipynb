{
  "nbformat": 4,
  "nbformat_minor": 0,
  "metadata": {
    "colab": {
      "name": "Numpy Indexing.ipynb",
      "provenance": []
    },
    "kernelspec": {
      "name": "python3",
      "display_name": "Python 3"
    }
  },
  "cells": [
    {
      "cell_type": "markdown",
      "metadata": {
        "id": "jXyaTOzkribd"
      },
      "source": [
        "**Numpy**\r\n",
        "\r\n",
        "NumPy is a library for the Python programming language, adding support for large, multi-dimensional arrays and matrices, along with a large collection of high-level mathematical functions to operate on these arrays."
      ]
    },
    {
      "cell_type": "markdown",
      "metadata": {
        "id": "x7L57gihr1T6"
      },
      "source": [
        "![image.png](data:image/png;base64,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)"
      ]
    },
    {
      "cell_type": "markdown",
      "metadata": {
        "id": "M8rLBB1Hr81t"
      },
      "source": [
        "**How to install?**\r\n",
        "\r\n",
        "pip install numpy"
      ]
    },
    {
      "cell_type": "code",
      "metadata": {
        "id": "q_qHiFO28bQZ"
      },
      "source": [
        "import numpy as np"
      ],
      "execution_count": 41,
      "outputs": []
    },
    {
      "cell_type": "code",
      "metadata": {
        "colab": {
          "base_uri": "https://localhost:8080/"
        },
        "id": "4ptTa-rx8dt7",
        "outputId": "d7895428-5461-4b0d-ce59-1d1de2ca2445"
      },
      "source": [
        "#create an array\r\n",
        "\r\n",
        "arr = np.arange(0,11)\r\n",
        "arr"
      ],
      "execution_count": 42,
      "outputs": [
        {
          "output_type": "execute_result",
          "data": {
            "text/plain": [
              "array([ 0,  1,  2,  3,  4,  5,  6,  7,  8,  9, 10])"
            ]
          },
          "metadata": {
            "tags": []
          },
          "execution_count": 42
        }
      ]
    },
    {
      "cell_type": "markdown",
      "metadata": {
        "id": "tgJfG9BG8mQN"
      },
      "source": [
        "# Bracket Indexing "
      ]
    },
    {
      "cell_type": "code",
      "metadata": {
        "colab": {
          "base_uri": "https://localhost:8080/"
        },
        "id": "3YggSsMA8xxt",
        "outputId": "dec473a2-2543-4ada-b438-c30ec1123f01"
      },
      "source": [
        "arr[0]"
      ],
      "execution_count": 43,
      "outputs": [
        {
          "output_type": "execute_result",
          "data": {
            "text/plain": [
              "0"
            ]
          },
          "metadata": {
            "tags": []
          },
          "execution_count": 43
        }
      ]
    },
    {
      "cell_type": "code",
      "metadata": {
        "colab": {
          "base_uri": "https://localhost:8080/"
        },
        "id": "J7JLQ6--80Sz",
        "outputId": "2eff5c6c-e82a-439a-b557-9b68c74cb074"
      },
      "source": [
        "arr[3:6]"
      ],
      "execution_count": 44,
      "outputs": [
        {
          "output_type": "execute_result",
          "data": {
            "text/plain": [
              "array([3, 4, 5])"
            ]
          },
          "metadata": {
            "tags": []
          },
          "execution_count": 44
        }
      ]
    },
    {
      "cell_type": "code",
      "metadata": {
        "colab": {
          "base_uri": "https://localhost:8080/"
        },
        "id": "KaISYlis84Xt",
        "outputId": "476f63bb-0ea5-4f7c-81b7-3dc29460a005"
      },
      "source": [
        "arr[::-1]"
      ],
      "execution_count": 45,
      "outputs": [
        {
          "output_type": "execute_result",
          "data": {
            "text/plain": [
              "array([10,  9,  8,  7,  6,  5,  4,  3,  2,  1,  0])"
            ]
          },
          "metadata": {
            "tags": []
          },
          "execution_count": 45
        }
      ]
    },
    {
      "cell_type": "markdown",
      "metadata": {
        "id": "CE92hsi-8_13"
      },
      "source": [
        "#Broadcasting"
      ]
    },
    {
      "cell_type": "code",
      "metadata": {
        "colab": {
          "base_uri": "https://localhost:8080/"
        },
        "id": "K4Qq_KZ89H1t",
        "outputId": "2ab83558-f398-436f-8713-aeb36cba43ee"
      },
      "source": [
        "arr[0:4] = 49\r\n",
        "arr"
      ],
      "execution_count": 46,
      "outputs": [
        {
          "output_type": "execute_result",
          "data": {
            "text/plain": [
              "array([49, 49, 49, 49,  4,  5,  6,  7,  8,  9, 10])"
            ]
          },
          "metadata": {
            "tags": []
          },
          "execution_count": 46
        }
      ]
    },
    {
      "cell_type": "code",
      "metadata": {
        "colab": {
          "base_uri": "https://localhost:8080/"
        },
        "id": "I7_RiY7-9Tqw",
        "outputId": "68804437-c27c-4a56-955e-363beff81fcf"
      },
      "source": [
        "arr = np.arange(0,11)\r\n",
        "arr"
      ],
      "execution_count": 47,
      "outputs": [
        {
          "output_type": "execute_result",
          "data": {
            "text/plain": [
              "array([ 0,  1,  2,  3,  4,  5,  6,  7,  8,  9, 10])"
            ]
          },
          "metadata": {
            "tags": []
          },
          "execution_count": 47
        }
      ]
    },
    {
      "cell_type": "code",
      "metadata": {
        "colab": {
          "base_uri": "https://localhost:8080/"
        },
        "id": "Du7AmXPR9YKz",
        "outputId": "426b5f6e-6b03-4d5d-dd93-d9c1fb380aba"
      },
      "source": [
        "slicing_array = arr[0:5]\r\n",
        "slicing_array"
      ],
      "execution_count": 48,
      "outputs": [
        {
          "output_type": "execute_result",
          "data": {
            "text/plain": [
              "array([0, 1, 2, 3, 4])"
            ]
          },
          "metadata": {
            "tags": []
          },
          "execution_count": 48
        }
      ]
    },
    {
      "cell_type": "code",
      "metadata": {
        "colab": {
          "base_uri": "https://localhost:8080/"
        },
        "id": "9-y8sYAv9g8D",
        "outputId": "061b6cb2-f54c-4b18-a4e9-28dcc4408edf"
      },
      "source": [
        "slicing_array[:] = 100\r\n",
        "slicing_array"
      ],
      "execution_count": 49,
      "outputs": [
        {
          "output_type": "execute_result",
          "data": {
            "text/plain": [
              "array([100, 100, 100, 100, 100])"
            ]
          },
          "metadata": {
            "tags": []
          },
          "execution_count": 49
        }
      ]
    },
    {
      "cell_type": "code",
      "metadata": {
        "colab": {
          "base_uri": "https://localhost:8080/"
        },
        "id": "lAWMF76_90Gd",
        "outputId": "af7d96d3-25de-4361-f1bb-e9b3da5855c8"
      },
      "source": [
        "arr"
      ],
      "execution_count": 50,
      "outputs": [
        {
          "output_type": "execute_result",
          "data": {
            "text/plain": [
              "array([100, 100, 100, 100, 100,   5,   6,   7,   8,   9,  10])"
            ]
          },
          "metadata": {
            "tags": []
          },
          "execution_count": 50
        }
      ]
    },
    {
      "cell_type": "code",
      "metadata": {
        "colab": {
          "base_uri": "https://localhost:8080/"
        },
        "id": "Q3cj8BrF9_JC",
        "outputId": "8460183c-2c9f-4ada-d550-447f2359f711"
      },
      "source": [
        "#how to copy\r\n",
        "\r\n",
        "arr_copy = arr.copy()\r\n",
        "\r\n",
        "arr_copy"
      ],
      "execution_count": 51,
      "outputs": [
        {
          "output_type": "execute_result",
          "data": {
            "text/plain": [
              "array([100, 100, 100, 100, 100,   5,   6,   7,   8,   9,  10])"
            ]
          },
          "metadata": {
            "tags": []
          },
          "execution_count": 51
        }
      ]
    },
    {
      "cell_type": "markdown",
      "metadata": {
        "id": "AXp4ONew_O_w"
      },
      "source": [
        "#Indexing a 2D array"
      ]
    },
    {
      "cell_type": "code",
      "metadata": {
        "colab": {
          "base_uri": "https://localhost:8080/"
        },
        "id": "bBPfwCym_THN",
        "outputId": "5674f8b0-d35e-49dc-e07c-ebf305104530"
      },
      "source": [
        "matrix = np.array([[1,2,3], [4,5,6] , [7,8,9]])\r\n",
        "matrix"
      ],
      "execution_count": 52,
      "outputs": [
        {
          "output_type": "execute_result",
          "data": {
            "text/plain": [
              "array([[1, 2, 3],\n",
              "       [4, 5, 6],\n",
              "       [7, 8, 9]])"
            ]
          },
          "metadata": {
            "tags": []
          },
          "execution_count": 52
        }
      ]
    },
    {
      "cell_type": "code",
      "metadata": {
        "colab": {
          "base_uri": "https://localhost:8080/"
        },
        "id": "MxrryXIR_env",
        "outputId": "51210b1a-ec50-4f23-d118-573292d9f4bd"
      },
      "source": [
        "matrix[2][2]"
      ],
      "execution_count": 56,
      "outputs": [
        {
          "output_type": "execute_result",
          "data": {
            "text/plain": [
              "9"
            ]
          },
          "metadata": {
            "tags": []
          },
          "execution_count": 56
        }
      ]
    },
    {
      "cell_type": "code",
      "metadata": {
        "colab": {
          "base_uri": "https://localhost:8080/"
        },
        "id": "eMzU1zSI_kTl",
        "outputId": "9bb82527-26db-42a3-97f2-ce4482b0765d"
      },
      "source": [
        "matrix.shape"
      ],
      "execution_count": 54,
      "outputs": [
        {
          "output_type": "execute_result",
          "data": {
            "text/plain": [
              "(3, 3)"
            ]
          },
          "metadata": {
            "tags": []
          },
          "execution_count": 54
        }
      ]
    },
    {
      "cell_type": "code",
      "metadata": {
        "colab": {
          "base_uri": "https://localhost:8080/"
        },
        "id": "rWNtRUKJ_sDK",
        "outputId": "801b7216-8ad3-4245-e56e-83ea97a93c92"
      },
      "source": [
        "matrix[:2 , 1:]"
      ],
      "execution_count": 57,
      "outputs": [
        {
          "output_type": "execute_result",
          "data": {
            "text/plain": [
              "array([[2, 3],\n",
              "       [5, 6]])"
            ]
          },
          "metadata": {
            "tags": []
          },
          "execution_count": 57
        }
      ]
    },
    {
      "cell_type": "code",
      "metadata": {
        "colab": {
          "base_uri": "https://localhost:8080/"
        },
        "id": "qkHjymie_3HS",
        "outputId": "f1845930-8a5c-44bd-996c-90a36cbd32cd"
      },
      "source": [
        "matrix[ 1: , 1:]"
      ],
      "execution_count": 59,
      "outputs": [
        {
          "output_type": "execute_result",
          "data": {
            "text/plain": [
              "array([[5, 6],\n",
              "       [8, 9]])"
            ]
          },
          "metadata": {
            "tags": []
          },
          "execution_count": 59
        }
      ]
    },
    {
      "cell_type": "markdown",
      "metadata": {
        "id": "4SNPYzWKC-uw"
      },
      "source": [
        "#Boolean Indexing"
      ]
    },
    {
      "cell_type": "code",
      "metadata": {
        "colab": {
          "base_uri": "https://localhost:8080/"
        },
        "id": "VWpOklRUDBid",
        "outputId": "03f173cb-570e-42e3-864d-b7425105417d"
      },
      "source": [
        "arr = np.arange(1,15)\r\n",
        "arr"
      ],
      "execution_count": 60,
      "outputs": [
        {
          "output_type": "execute_result",
          "data": {
            "text/plain": [
              "array([ 1,  2,  3,  4,  5,  6,  7,  8,  9, 10, 11, 12, 13, 14])"
            ]
          },
          "metadata": {
            "tags": []
          },
          "execution_count": 60
        }
      ]
    },
    {
      "cell_type": "code",
      "metadata": {
        "colab": {
          "base_uri": "https://localhost:8080/"
        },
        "id": "9zzGDLBfDJPm",
        "outputId": "88cf3daa-a8ee-4ff8-cd5a-d6a59789ecf1"
      },
      "source": [
        "arr > 5"
      ],
      "execution_count": 61,
      "outputs": [
        {
          "output_type": "execute_result",
          "data": {
            "text/plain": [
              "array([False, False, False, False, False,  True,  True,  True,  True,\n",
              "        True,  True,  True,  True,  True])"
            ]
          },
          "metadata": {
            "tags": []
          },
          "execution_count": 61
        }
      ]
    },
    {
      "cell_type": "code",
      "metadata": {
        "id": "L3gMOkl7DOci"
      },
      "source": [
        "bool_arr = arr>5"
      ],
      "execution_count": 62,
      "outputs": []
    },
    {
      "cell_type": "code",
      "metadata": {
        "colab": {
          "base_uri": "https://localhost:8080/"
        },
        "id": "YIntnvQbDSLo",
        "outputId": "51db03f7-1a5c-4299-d798-edd6a824d0ca"
      },
      "source": [
        "arr[bool_arr]"
      ],
      "execution_count": 63,
      "outputs": [
        {
          "output_type": "execute_result",
          "data": {
            "text/plain": [
              "array([ 6,  7,  8,  9, 10, 11, 12, 13, 14])"
            ]
          },
          "metadata": {
            "tags": []
          },
          "execution_count": 63
        }
      ]
    },
    {
      "cell_type": "code",
      "metadata": {
        "colab": {
          "base_uri": "https://localhost:8080/"
        },
        "id": "gOYmP_QhDaLv",
        "outputId": "b5632d19-0bd6-41ab-8baf-664b00c4f90e"
      },
      "source": [
        "arr[arr>2]"
      ],
      "execution_count": 64,
      "outputs": [
        {
          "output_type": "execute_result",
          "data": {
            "text/plain": [
              "array([ 3,  4,  5,  6,  7,  8,  9, 10, 11, 12, 13, 14])"
            ]
          },
          "metadata": {
            "tags": []
          },
          "execution_count": 64
        }
      ]
    },
    {
      "cell_type": "markdown",
      "metadata": {
        "id": "XYDKjA5HDxnH"
      },
      "source": [
        "**Thank You**"
      ]
    }
  ]
}
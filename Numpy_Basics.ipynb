{
  "nbformat": 4,
  "nbformat_minor": 0,
  "metadata": {
    "colab": {
      "name": "Numpy Basics.ipynb",
      "provenance": []
    },
    "kernelspec": {
      "name": "python3",
      "display_name": "Python 3"
    }
  },
  "cells": [
    {
      "cell_type": "markdown",
      "metadata": {
        "id": "jXyaTOzkribd"
      },
      "source": [
        "**Numpy**\r\n",
        "\r\n",
        "NumPy is a library for the Python programming language, adding support for large, multi-dimensional arrays and matrices, along with a large collection of high-level mathematical functions to operate on these arrays."
      ]
    },
    {
      "cell_type": "markdown",
      "metadata": {
        "id": "x7L57gihr1T6"
      },
      "source": [
        "![image.png](data:image/png;base64,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)"
      ]
    },
    {
      "cell_type": "markdown",
      "metadata": {
        "id": "M8rLBB1Hr81t"
      },
      "source": [
        "**How to install?**\r\n",
        "\r\n",
        "pip install numpy"
      ]
    },
    {
      "cell_type": "code",
      "metadata": {
        "id": "n_aGt0KTtTkb"
      },
      "source": [
        "import numpy as np"
      ],
      "execution_count": 1,
      "outputs": []
    },
    {
      "cell_type": "code",
      "metadata": {
        "colab": {
          "base_uri": "https://localhost:8080/"
        },
        "id": "2do0JzcBtZEd",
        "outputId": "6c7e79ac-c1d6-4fea-9c24-5bfb5e1df49f"
      },
      "source": [
        "#converting a python list in to array\r\n",
        "\r\n",
        "my_list = [1,2,3,4]\r\n",
        "my_list"
      ],
      "execution_count": 2,
      "outputs": [
        {
          "output_type": "execute_result",
          "data": {
            "text/plain": [
              "[1, 2, 3, 4]"
            ]
          },
          "metadata": {
            "tags": []
          },
          "execution_count": 2
        }
      ]
    },
    {
      "cell_type": "code",
      "metadata": {
        "colab": {
          "base_uri": "https://localhost:8080/"
        },
        "id": "g4abUG5atkWq",
        "outputId": "15b90540-0dcf-4ca3-b8d1-fe5ee9a6bda5"
      },
      "source": [
        "np.array(my_list)"
      ],
      "execution_count": 3,
      "outputs": [
        {
          "output_type": "execute_result",
          "data": {
            "text/plain": [
              "array([1, 2, 3, 4])"
            ]
          },
          "metadata": {
            "tags": []
          },
          "execution_count": 3
        }
      ]
    },
    {
      "cell_type": "code",
      "metadata": {
        "colab": {
          "base_uri": "https://localhost:8080/"
        },
        "id": "hVqf93_KtsT3",
        "outputId": "cb6272c2-759c-48ab-d4cc-09ee5653d2c9"
      },
      "source": [
        "#nested lists\r\n",
        "\r\n",
        "matrix = [[1,2,3] , [4,5,6] , [7,8,9]] #3*3 array\r\n",
        "matrix"
      ],
      "execution_count": 4,
      "outputs": [
        {
          "output_type": "execute_result",
          "data": {
            "text/plain": [
              "[[1, 2, 3], [4, 5, 6], [7, 8, 9]]"
            ]
          },
          "metadata": {
            "tags": []
          },
          "execution_count": 4
        }
      ]
    },
    {
      "cell_type": "code",
      "metadata": {
        "colab": {
          "base_uri": "https://localhost:8080/"
        },
        "id": "OfEusOGbt4Rh",
        "outputId": "d8d6676a-f0ff-4c3d-9114-54de8b5ec971"
      },
      "source": [
        "np.array(matrix)"
      ],
      "execution_count": 5,
      "outputs": [
        {
          "output_type": "execute_result",
          "data": {
            "text/plain": [
              "array([[1, 2, 3],\n",
              "       [4, 5, 6],\n",
              "       [7, 8, 9]])"
            ]
          },
          "metadata": {
            "tags": []
          },
          "execution_count": 5
        }
      ]
    },
    {
      "cell_type": "markdown",
      "metadata": {
        "id": "uN1rt-9Ht-iS"
      },
      "source": [
        "**Built-in Methods**"
      ]
    },
    {
      "cell_type": "markdown",
      "metadata": {
        "id": "kENbaJrluthu"
      },
      "source": [
        "# arange\r\n",
        "\r\n",
        "Return evenly spaced values within a given interval"
      ]
    },
    {
      "cell_type": "code",
      "metadata": {
        "colab": {
          "base_uri": "https://localhost:8080/"
        },
        "id": "SVFD687yvIET",
        "outputId": "209dade2-6aeb-4733-ae71-704317b821f0"
      },
      "source": [
        "np.arange(0,16 , 3)"
      ],
      "execution_count": 7,
      "outputs": [
        {
          "output_type": "execute_result",
          "data": {
            "text/plain": [
              "array([ 0,  3,  6,  9, 12, 15])"
            ]
          },
          "metadata": {
            "tags": []
          },
          "execution_count": 7
        }
      ]
    },
    {
      "cell_type": "code",
      "metadata": {
        "colab": {
          "base_uri": "https://localhost:8080/"
        },
        "id": "7EN8nrCvvVHu",
        "outputId": "3c6a9d46-5f63-4705-dcd5-325109131989"
      },
      "source": [
        "np.arange(10 , 5 , -1)"
      ],
      "execution_count": 8,
      "outputs": [
        {
          "output_type": "execute_result",
          "data": {
            "text/plain": [
              "array([10,  9,  8,  7,  6])"
            ]
          },
          "metadata": {
            "tags": []
          },
          "execution_count": 8
        }
      ]
    },
    {
      "cell_type": "markdown",
      "metadata": {
        "id": "9v1IUsf6vtyr"
      },
      "source": [
        "# zeros\r\n",
        "\r\n",
        "Creates array of zeros"
      ]
    },
    {
      "cell_type": "code",
      "metadata": {
        "colab": {
          "base_uri": "https://localhost:8080/"
        },
        "id": "_UW9zB8vv7fC",
        "outputId": "23ab3646-b985-458b-b253-8232390dcd62"
      },
      "source": [
        "np.zeros(3)"
      ],
      "execution_count": 9,
      "outputs": [
        {
          "output_type": "execute_result",
          "data": {
            "text/plain": [
              "array([0., 0., 0.])"
            ]
          },
          "metadata": {
            "tags": []
          },
          "execution_count": 9
        }
      ]
    },
    {
      "cell_type": "code",
      "metadata": {
        "colab": {
          "base_uri": "https://localhost:8080/"
        },
        "id": "2gynWqd1wAtT",
        "outputId": "f79a5e7c-a67c-4a4e-8ff1-ad8f5594eab7"
      },
      "source": [
        "np.zeros((2,3))"
      ],
      "execution_count": 10,
      "outputs": [
        {
          "output_type": "execute_result",
          "data": {
            "text/plain": [
              "array([[0., 0., 0.],\n",
              "       [0., 0., 0.]])"
            ]
          },
          "metadata": {
            "tags": []
          },
          "execution_count": 10
        }
      ]
    },
    {
      "cell_type": "markdown",
      "metadata": {
        "id": "AJ-uWWDzwJWm"
      },
      "source": [
        "#ones\r\n",
        "\r\n",
        "Creates array of ones"
      ]
    },
    {
      "cell_type": "code",
      "metadata": {
        "colab": {
          "base_uri": "https://localhost:8080/"
        },
        "id": "74snv0m8wSSd",
        "outputId": "4182a691-5ad0-4b34-d7bf-093cbffea109"
      },
      "source": [
        "np.ones(5)"
      ],
      "execution_count": 11,
      "outputs": [
        {
          "output_type": "execute_result",
          "data": {
            "text/plain": [
              "array([1., 1., 1., 1., 1.])"
            ]
          },
          "metadata": {
            "tags": []
          },
          "execution_count": 11
        }
      ]
    },
    {
      "cell_type": "code",
      "metadata": {
        "colab": {
          "base_uri": "https://localhost:8080/"
        },
        "id": "03vHAp1iwVS6",
        "outputId": "97843920-c921-4789-e173-1dac66d191a3"
      },
      "source": [
        "np.ones((3,3))"
      ],
      "execution_count": 12,
      "outputs": [
        {
          "output_type": "execute_result",
          "data": {
            "text/plain": [
              "array([[1., 1., 1.],\n",
              "       [1., 1., 1.],\n",
              "       [1., 1., 1.]])"
            ]
          },
          "metadata": {
            "tags": []
          },
          "execution_count": 12
        }
      ]
    },
    {
      "cell_type": "markdown",
      "metadata": {
        "id": "rNTIGhO7wbUU"
      },
      "source": [
        "#linspace\r\n",
        "\r\n",
        "returns evenly spaced numbers over a specified interval"
      ]
    },
    {
      "cell_type": "code",
      "metadata": {
        "colab": {
          "base_uri": "https://localhost:8080/"
        },
        "id": "AgZV-DN8xC5u",
        "outputId": "eddf0816-2bc9-48b2-8501-100027ff0d10"
      },
      "source": [
        "np.linspace(0 , 10 , 3)"
      ],
      "execution_count": 17,
      "outputs": [
        {
          "output_type": "execute_result",
          "data": {
            "text/plain": [
              "array([ 0.,  5., 10.])"
            ]
          },
          "metadata": {
            "tags": []
          },
          "execution_count": 17
        }
      ]
    },
    {
      "cell_type": "code",
      "metadata": {
        "colab": {
          "base_uri": "https://localhost:8080/"
        },
        "id": "uZqRQ0OPxKPS",
        "outputId": "d9f20fa6-bdc5-47e3-bf26-d8cae6c0fad0"
      },
      "source": [
        "np.linspace(0,10,30)"
      ],
      "execution_count": 14,
      "outputs": [
        {
          "output_type": "execute_result",
          "data": {
            "text/plain": [
              "array([ 0.        ,  0.34482759,  0.68965517,  1.03448276,  1.37931034,\n",
              "        1.72413793,  2.06896552,  2.4137931 ,  2.75862069,  3.10344828,\n",
              "        3.44827586,  3.79310345,  4.13793103,  4.48275862,  4.82758621,\n",
              "        5.17241379,  5.51724138,  5.86206897,  6.20689655,  6.55172414,\n",
              "        6.89655172,  7.24137931,  7.5862069 ,  7.93103448,  8.27586207,\n",
              "        8.62068966,  8.96551724,  9.31034483,  9.65517241, 10.        ])"
            ]
          },
          "metadata": {
            "tags": []
          },
          "execution_count": 14
        }
      ]
    },
    {
      "cell_type": "markdown",
      "metadata": {
        "id": "4RhAHERCyNt4"
      },
      "source": [
        "#eye\r\n",
        "\r\n",
        "creates an identity matrix"
      ]
    },
    {
      "cell_type": "code",
      "metadata": {
        "colab": {
          "base_uri": "https://localhost:8080/"
        },
        "id": "q4SI1WeFyXJU",
        "outputId": "3a4f2029-3a63-4aae-bb04-f9b6e5eba074"
      },
      "source": [
        "np.eye(4)"
      ],
      "execution_count": 18,
      "outputs": [
        {
          "output_type": "execute_result",
          "data": {
            "text/plain": [
              "array([[1., 0., 0., 0.],\n",
              "       [0., 1., 0., 0.],\n",
              "       [0., 0., 1., 0.],\n",
              "       [0., 0., 0., 1.]])"
            ]
          },
          "metadata": {
            "tags": []
          },
          "execution_count": 18
        }
      ]
    },
    {
      "cell_type": "markdown",
      "metadata": {
        "id": "CthbzL7pyd8S"
      },
      "source": [
        "#random"
      ]
    },
    {
      "cell_type": "code",
      "metadata": {
        "colab": {
          "base_uri": "https://localhost:8080/"
        },
        "id": "O65w3sFdzInL",
        "outputId": "af9b925b-b01b-4cbe-952d-6740ca2114c9"
      },
      "source": [
        "np.random.rand(2) #[0,1)"
      ],
      "execution_count": 19,
      "outputs": [
        {
          "output_type": "execute_result",
          "data": {
            "text/plain": [
              "array([0.99352415, 0.72750328])"
            ]
          },
          "metadata": {
            "tags": []
          },
          "execution_count": 19
        }
      ]
    },
    {
      "cell_type": "code",
      "metadata": {
        "colab": {
          "base_uri": "https://localhost:8080/"
        },
        "id": "31mdZWQPzSqv",
        "outputId": "39da747c-9c70-4114-b2d3-fdbd8ac57111"
      },
      "source": [
        "np.random.rand(3,3)"
      ],
      "execution_count": 20,
      "outputs": [
        {
          "output_type": "execute_result",
          "data": {
            "text/plain": [
              "array([[0.41764616, 0.36680007, 0.83446878],\n",
              "       [0.16098244, 0.84320394, 0.19513598],\n",
              "       [0.26099474, 0.72525177, 0.07585415]])"
            ]
          },
          "metadata": {
            "tags": []
          },
          "execution_count": 20
        }
      ]
    },
    {
      "cell_type": "code",
      "metadata": {
        "colab": {
          "base_uri": "https://localhost:8080/"
        },
        "id": "sXGjtIdBzbpP",
        "outputId": "bbc15f09-886e-4fdc-b377-2e1dd7ccc5dc"
      },
      "source": [
        "#randn\r\n",
        "\r\n",
        "np.random.randn(2)"
      ],
      "execution_count": 21,
      "outputs": [
        {
          "output_type": "execute_result",
          "data": {
            "text/plain": [
              "array([ 0.63458325, -0.74305884])"
            ]
          },
          "metadata": {
            "tags": []
          },
          "execution_count": 21
        }
      ]
    },
    {
      "cell_type": "code",
      "metadata": {
        "colab": {
          "base_uri": "https://localhost:8080/"
        },
        "id": "IhJ4DvWhzj_U",
        "outputId": "3b3b5a65-726b-4e15-a0e9-a31b4720a1c3"
      },
      "source": [
        "np.random.randn(3,3)"
      ],
      "execution_count": 23,
      "outputs": [
        {
          "output_type": "execute_result",
          "data": {
            "text/plain": [
              "array([[-0.52484126,  0.034204  ,  0.31866282],\n",
              "       [-1.9693685 ,  0.01090621,  0.24046787],\n",
              "       [-0.43959927,  0.50811203, -0.66304917]])"
            ]
          },
          "metadata": {
            "tags": []
          },
          "execution_count": 23
        }
      ]
    },
    {
      "cell_type": "code",
      "metadata": {
        "id": "MZC2D5rzzreQ"
      },
      "source": [
        "#randint"
      ],
      "execution_count": null,
      "outputs": []
    },
    {
      "cell_type": "code",
      "metadata": {
        "colab": {
          "base_uri": "https://localhost:8080/"
        },
        "id": "04-3kQ8Mzt5u",
        "outputId": "8a8a7f4f-9f20-4068-b8d3-bb545acdd990"
      },
      "source": [
        "np.random.randint(1,100) #1 is includes but 100 is excluded"
      ],
      "execution_count": 24,
      "outputs": [
        {
          "output_type": "execute_result",
          "data": {
            "text/plain": [
              "57"
            ]
          },
          "metadata": {
            "tags": []
          },
          "execution_count": 24
        }
      ]
    },
    {
      "cell_type": "code",
      "metadata": {
        "colab": {
          "base_uri": "https://localhost:8080/"
        },
        "id": "6SWvVOHuz4Lm",
        "outputId": "b4679355-5d01-4952-f27a-eab886fb19ee"
      },
      "source": [
        "np.random.randint(1,2)"
      ],
      "execution_count": 26,
      "outputs": [
        {
          "output_type": "execute_result",
          "data": {
            "text/plain": [
              "1"
            ]
          },
          "metadata": {
            "tags": []
          },
          "execution_count": 26
        }
      ]
    },
    {
      "cell_type": "code",
      "metadata": {
        "colab": {
          "base_uri": "https://localhost:8080/"
        },
        "id": "s94CrVRoz_jL",
        "outputId": "9cd0c328-970a-45a7-c551-478c67bff341"
      },
      "source": [
        "np.random.randint(1,100,10)"
      ],
      "execution_count": 27,
      "outputs": [
        {
          "output_type": "execute_result",
          "data": {
            "text/plain": [
              "array([78, 47, 82, 98,  7, 10, 77, 67, 36, 58])"
            ]
          },
          "metadata": {
            "tags": []
          },
          "execution_count": 27
        }
      ]
    },
    {
      "cell_type": "markdown",
      "metadata": {
        "id": "u4f9F5mK2BOh"
      },
      "source": [
        "#reshape\r\n",
        "\r\n",
        "returns ana array containing the same data with  a new shape\r\n"
      ]
    },
    {
      "cell_type": "code",
      "metadata": {
        "id": "gSL239u22Vhq"
      },
      "source": [
        "arr = np.arange(20)"
      ],
      "execution_count": 28,
      "outputs": []
    },
    {
      "cell_type": "code",
      "metadata": {
        "colab": {
          "base_uri": "https://localhost:8080/"
        },
        "id": "NZ9jUlsc2a1x",
        "outputId": "186a807a-b495-40e8-9969-bd6f50f01a7e"
      },
      "source": [
        "arr"
      ],
      "execution_count": 29,
      "outputs": [
        {
          "output_type": "execute_result",
          "data": {
            "text/plain": [
              "array([ 0,  1,  2,  3,  4,  5,  6,  7,  8,  9, 10, 11, 12, 13, 14, 15, 16,\n",
              "       17, 18, 19])"
            ]
          },
          "metadata": {
            "tags": []
          },
          "execution_count": 29
        }
      ]
    },
    {
      "cell_type": "code",
      "metadata": {
        "colab": {
          "base_uri": "https://localhost:8080/"
        },
        "id": "lUULHpM12cqv",
        "outputId": "f06cca16-33ba-437a-b949-aae4ee3eb6c7"
      },
      "source": [
        "arr.reshape(4,5)"
      ],
      "execution_count": 30,
      "outputs": [
        {
          "output_type": "execute_result",
          "data": {
            "text/plain": [
              "array([[ 0,  1,  2,  3,  4],\n",
              "       [ 5,  6,  7,  8,  9],\n",
              "       [10, 11, 12, 13, 14],\n",
              "       [15, 16, 17, 18, 19]])"
            ]
          },
          "metadata": {
            "tags": []
          },
          "execution_count": 30
        }
      ]
    },
    {
      "cell_type": "markdown",
      "metadata": {
        "id": "HpaWGcfv2u_M"
      },
      "source": [
        "**max , min , argmax , argmin**"
      ]
    },
    {
      "cell_type": "code",
      "metadata": {
        "colab": {
          "base_uri": "https://localhost:8080/"
        },
        "id": "fAPfBtn33L-T",
        "outputId": "ceba027c-4a86-4aac-899c-b4886166bd7f"
      },
      "source": [
        "arr2 = np.random.randint(0,50,10)\r\n",
        "arr2"
      ],
      "execution_count": 33,
      "outputs": [
        {
          "output_type": "execute_result",
          "data": {
            "text/plain": [
              "array([ 8, 40,  4, 42, 22, 20, 43, 43, 10, 20])"
            ]
          },
          "metadata": {
            "tags": []
          },
          "execution_count": 33
        }
      ]
    },
    {
      "cell_type": "code",
      "metadata": {
        "colab": {
          "base_uri": "https://localhost:8080/"
        },
        "id": "0R_rPrZ53Ubx",
        "outputId": "7d4e8d55-c444-41ae-ce05-cf309e486a5d"
      },
      "source": [
        "arr2.max()"
      ],
      "execution_count": 34,
      "outputs": [
        {
          "output_type": "execute_result",
          "data": {
            "text/plain": [
              "43"
            ]
          },
          "metadata": {
            "tags": []
          },
          "execution_count": 34
        }
      ]
    },
    {
      "cell_type": "code",
      "metadata": {
        "colab": {
          "base_uri": "https://localhost:8080/"
        },
        "id": "-OFt_VlK3Zjv",
        "outputId": "f65b3432-d8e1-4a71-afe3-873a3765b89a"
      },
      "source": [
        "arr2.argmax()"
      ],
      "execution_count": 35,
      "outputs": [
        {
          "output_type": "execute_result",
          "data": {
            "text/plain": [
              "6"
            ]
          },
          "metadata": {
            "tags": []
          },
          "execution_count": 35
        }
      ]
    },
    {
      "cell_type": "code",
      "metadata": {
        "colab": {
          "base_uri": "https://localhost:8080/"
        },
        "id": "_laNAb0I3fl_",
        "outputId": "4b5c5082-068e-45cb-a8ca-56168018407d"
      },
      "source": [
        "arr2.min()"
      ],
      "execution_count": 36,
      "outputs": [
        {
          "output_type": "execute_result",
          "data": {
            "text/plain": [
              "4"
            ]
          },
          "metadata": {
            "tags": []
          },
          "execution_count": 36
        }
      ]
    },
    {
      "cell_type": "code",
      "metadata": {
        "colab": {
          "base_uri": "https://localhost:8080/"
        },
        "id": "dNH8JeEf3iyp",
        "outputId": "3c3254d7-e472-4364-fc99-6460019a2985"
      },
      "source": [
        "arr2.argmin()"
      ],
      "execution_count": 37,
      "outputs": [
        {
          "output_type": "execute_result",
          "data": {
            "text/plain": [
              "2"
            ]
          },
          "metadata": {
            "tags": []
          },
          "execution_count": 37
        }
      ]
    },
    {
      "cell_type": "markdown",
      "metadata": {
        "id": "xFGm5Ajb4KRK"
      },
      "source": [
        "**Thank you!!**"
      ]
    }
  ]
}